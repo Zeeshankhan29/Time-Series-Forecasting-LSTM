{
 "cells": [
  {
   "cell_type": "code",
   "execution_count": 245,
   "id": "700802a9",
   "metadata": {},
   "outputs": [],
   "source": [
    "import pandas as pd\n",
    "import numpy as np\n",
    "import matplotlib.pyplot as plt\n",
    "import seaborn as sn"
   ]
  },
  {
   "cell_type": "code",
   "execution_count": 246,
   "id": "6649ab98",
   "metadata": {},
   "outputs": [
    {
     "data": {
      "text/html": [
       "<div>\n",
       "<style scoped>\n",
       "    .dataframe tbody tr th:only-of-type {\n",
       "        vertical-align: middle;\n",
       "    }\n",
       "\n",
       "    .dataframe tbody tr th {\n",
       "        vertical-align: top;\n",
       "    }\n",
       "\n",
       "    .dataframe thead th {\n",
       "        text-align: right;\n",
       "    }\n",
       "</style>\n",
       "<table border=\"1\" class=\"dataframe\">\n",
       "  <thead>\n",
       "    <tr style=\"text-align: right;\">\n",
       "      <th></th>\n",
       "      <th>Date</th>\n",
       "      <th>Production</th>\n",
       "    </tr>\n",
       "  </thead>\n",
       "  <tbody>\n",
       "    <tr>\n",
       "      <th>0</th>\n",
       "      <td>1962-01</td>\n",
       "      <td>589</td>\n",
       "    </tr>\n",
       "    <tr>\n",
       "      <th>1</th>\n",
       "      <td>1962-02</td>\n",
       "      <td>561</td>\n",
       "    </tr>\n",
       "    <tr>\n",
       "      <th>2</th>\n",
       "      <td>1962-03</td>\n",
       "      <td>640</td>\n",
       "    </tr>\n",
       "    <tr>\n",
       "      <th>3</th>\n",
       "      <td>1962-04</td>\n",
       "      <td>656</td>\n",
       "    </tr>\n",
       "    <tr>\n",
       "      <th>4</th>\n",
       "      <td>1962-05</td>\n",
       "      <td>727</td>\n",
       "    </tr>\n",
       "    <tr>\n",
       "      <th>...</th>\n",
       "      <td>...</td>\n",
       "      <td>...</td>\n",
       "    </tr>\n",
       "    <tr>\n",
       "      <th>163</th>\n",
       "      <td>1975-08</td>\n",
       "      <td>858</td>\n",
       "    </tr>\n",
       "    <tr>\n",
       "      <th>164</th>\n",
       "      <td>1975-09</td>\n",
       "      <td>817</td>\n",
       "    </tr>\n",
       "    <tr>\n",
       "      <th>165</th>\n",
       "      <td>1975-10</td>\n",
       "      <td>827</td>\n",
       "    </tr>\n",
       "    <tr>\n",
       "      <th>166</th>\n",
       "      <td>1975-11</td>\n",
       "      <td>797</td>\n",
       "    </tr>\n",
       "    <tr>\n",
       "      <th>167</th>\n",
       "      <td>1975-12</td>\n",
       "      <td>843</td>\n",
       "    </tr>\n",
       "  </tbody>\n",
       "</table>\n",
       "<p>168 rows × 2 columns</p>\n",
       "</div>"
      ],
      "text/plain": [
       "        Date  Production\n",
       "0    1962-01         589\n",
       "1    1962-02         561\n",
       "2    1962-03         640\n",
       "3    1962-04         656\n",
       "4    1962-05         727\n",
       "..       ...         ...\n",
       "163  1975-08         858\n",
       "164  1975-09         817\n",
       "165  1975-10         827\n",
       "166  1975-11         797\n",
       "167  1975-12         843\n",
       "\n",
       "[168 rows x 2 columns]"
      ]
     },
     "execution_count": 246,
     "metadata": {},
     "output_type": "execute_result"
    }
   ],
   "source": [
    "df = pd.read_csv('monthly_milk_production.csv')\n",
    "df"
   ]
  },
  {
   "cell_type": "code",
   "execution_count": 247,
   "id": "a43baab2",
   "metadata": {},
   "outputs": [
    {
     "data": {
      "text/plain": [
       "Date          object\n",
       "Production     int64\n",
       "dtype: object"
      ]
     },
     "execution_count": 247,
     "metadata": {},
     "output_type": "execute_result"
    }
   ],
   "source": [
    "df.dtypes"
   ]
  },
  {
   "cell_type": "code",
   "execution_count": 248,
   "id": "cf104c7d",
   "metadata": {},
   "outputs": [],
   "source": [
    "df['Date'] = pd.to_datetime(df['Date'])"
   ]
  },
  {
   "cell_type": "code",
   "execution_count": 249,
   "id": "007fdc22",
   "metadata": {},
   "outputs": [
    {
     "data": {
      "text/plain": [
       "Date          datetime64[ns]\n",
       "Production             int64\n",
       "dtype: object"
      ]
     },
     "execution_count": 249,
     "metadata": {},
     "output_type": "execute_result"
    }
   ],
   "source": [
    "df.dtypes"
   ]
  },
  {
   "cell_type": "code",
   "execution_count": 250,
   "id": "94e3c402",
   "metadata": {},
   "outputs": [],
   "source": [
    "df.set_index('Date',inplace=True)"
   ]
  },
  {
   "cell_type": "code",
   "execution_count": 251,
   "id": "36d10d7e",
   "metadata": {},
   "outputs": [
    {
     "data": {
      "text/html": [
       "<div>\n",
       "<style scoped>\n",
       "    .dataframe tbody tr th:only-of-type {\n",
       "        vertical-align: middle;\n",
       "    }\n",
       "\n",
       "    .dataframe tbody tr th {\n",
       "        vertical-align: top;\n",
       "    }\n",
       "\n",
       "    .dataframe thead th {\n",
       "        text-align: right;\n",
       "    }\n",
       "</style>\n",
       "<table border=\"1\" class=\"dataframe\">\n",
       "  <thead>\n",
       "    <tr style=\"text-align: right;\">\n",
       "      <th></th>\n",
       "      <th>Production</th>\n",
       "    </tr>\n",
       "    <tr>\n",
       "      <th>Date</th>\n",
       "      <th></th>\n",
       "    </tr>\n",
       "  </thead>\n",
       "  <tbody>\n",
       "    <tr>\n",
       "      <th>1962-01-01</th>\n",
       "      <td>589</td>\n",
       "    </tr>\n",
       "    <tr>\n",
       "      <th>1962-02-01</th>\n",
       "      <td>561</td>\n",
       "    </tr>\n",
       "    <tr>\n",
       "      <th>1962-03-01</th>\n",
       "      <td>640</td>\n",
       "    </tr>\n",
       "    <tr>\n",
       "      <th>1962-04-01</th>\n",
       "      <td>656</td>\n",
       "    </tr>\n",
       "    <tr>\n",
       "      <th>1962-05-01</th>\n",
       "      <td>727</td>\n",
       "    </tr>\n",
       "    <tr>\n",
       "      <th>...</th>\n",
       "      <td>...</td>\n",
       "    </tr>\n",
       "    <tr>\n",
       "      <th>1975-08-01</th>\n",
       "      <td>858</td>\n",
       "    </tr>\n",
       "    <tr>\n",
       "      <th>1975-09-01</th>\n",
       "      <td>817</td>\n",
       "    </tr>\n",
       "    <tr>\n",
       "      <th>1975-10-01</th>\n",
       "      <td>827</td>\n",
       "    </tr>\n",
       "    <tr>\n",
       "      <th>1975-11-01</th>\n",
       "      <td>797</td>\n",
       "    </tr>\n",
       "    <tr>\n",
       "      <th>1975-12-01</th>\n",
       "      <td>843</td>\n",
       "    </tr>\n",
       "  </tbody>\n",
       "</table>\n",
       "<p>168 rows × 1 columns</p>\n",
       "</div>"
      ],
      "text/plain": [
       "            Production\n",
       "Date                  \n",
       "1962-01-01         589\n",
       "1962-02-01         561\n",
       "1962-03-01         640\n",
       "1962-04-01         656\n",
       "1962-05-01         727\n",
       "...                ...\n",
       "1975-08-01         858\n",
       "1975-09-01         817\n",
       "1975-10-01         827\n",
       "1975-11-01         797\n",
       "1975-12-01         843\n",
       "\n",
       "[168 rows x 1 columns]"
      ]
     },
     "execution_count": 251,
     "metadata": {},
     "output_type": "execute_result"
    }
   ],
   "source": [
    "df"
   ]
  },
  {
   "cell_type": "code",
   "execution_count": 252,
   "id": "0ce3f238",
   "metadata": {},
   "outputs": [
    {
     "data": {
      "text/plain": [
       "<AxesSubplot:xlabel='Date'>"
      ]
     },
     "execution_count": 252,
     "metadata": {},
     "output_type": "execute_result"
    },
    {
     "data": {
      "image/png": "[encoded data removed]",
      "text/plain": [
       "<Figure size 864x432 with 1 Axes>"
      ]
     },
     "metadata": {
      "needs_background": "light"
     },
     "output_type": "display_data"
    }
   ],
   "source": [
    "df.plot(ylim=[500,1000],xlim=['1962-1-1','1975-12-1'],c='red',figsize=(12,6))"
   ]
  },
  {
   "cell_type": "code",
   "execution_count": 253,
   "id": "a1310d30",
   "metadata": {},
   "outputs": [
    {
     "data": {
      "image/png": "[encoded data removed]",
      "text/plain": [
       "<Figure size 432x288 with 4 Axes>"
      ]
     },
     "metadata": {
      "needs_background": "light"
     },
     "output_type": "display_data"
    }
   ],
   "source": [
    "from statsmodels.tsa.seasonal import seasonal_decompose\n",
    "result = seasonal_decompose(df['Production'])\n",
    "result.plot();"
   ]
  },
  {
   "cell_type": "code",
   "execution_count": 254,
   "id": "8e863f01",
   "metadata": {},
   "outputs": [
    {
     "data": {
      "text/plain": [
       "168"
      ]
     },
     "execution_count": 254,
     "metadata": {},
     "output_type": "execute_result"
    }
   ],
   "source": [
    "len(df)"
   ]
  },
  {
   "cell_type": "code",
   "execution_count": 255,
   "id": "8f07260e",
   "metadata": {},
   "outputs": [],
   "source": [
    "train = df.iloc[0:156,:]\n",
    "test = df.iloc[156:,:]"
   ]
  },
  {
   "cell_type": "code",
   "execution_count": 256,
   "id": "4fdcc123",
   "metadata": {},
   "outputs": [
    {
     "data": {
      "text/plain": [
       "12"
      ]
     },
     "execution_count": 256,
     "metadata": {},
     "output_type": "execute_result"
    }
   ],
   "source": [
    "len(test)"
   ]
  },
  {
   "cell_type": "code",
   "execution_count": 257,
   "id": "6b0e8774",
   "metadata": {},
   "outputs": [],
   "source": [
    "#Scaling the data to mind and max scaler\n",
    "from sklearn.preprocessing import MinMaxScaler\n",
    "scaler = MinMaxScaler()"
   ]
  },
  {
   "cell_type": "code",
   "execution_count": 258,
   "id": "b714f592",
   "metadata": {},
   "outputs": [
    {
     "data": {
      "text/html": [
       "<style>#sk-container-id-3 {color: black;background-color: white;}#sk-container-id-3 pre{padding: 0;}#sk-container-id-3 div.sk-toggleable {background-color: white;}#sk-container-id-3 label.sk-toggleable__label {cursor: pointer;display: block;width: 100%;margin-bottom: 0;padding: 0.3em;box-sizing: border-box;text-align: center;}#sk-container-id-3 label.sk-toggleable__label-arrow:before {content: \"▸\";float: left;margin-right: 0.25em;color: #696969;}#sk-container-id-3 label.sk-toggleable__label-arrow:hover:before {color: black;}#sk-container-id-3 div.sk-estimator:hover label.sk-toggleable__label-arrow:before {color: black;}#sk-container-id-3 div.sk-toggleable__content {max-height: 0;max-width: 0;overflow: hidden;text-align: left;background-color: #f0f8ff;}#sk-container-id-3 div.sk-toggleable__content pre {margin: 0.2em;color: black;border-radius: 0.25em;background-color: #f0f8ff;}#sk-container-id-3 input.sk-toggleable__control:checked~div.sk-toggleable__content {max-height: 200px;max-width: 100%;overflow: auto;}#sk-container-id-3 input.sk-toggleable__control:checked~label.sk-toggleable__label-arrow:before {content: \"▾\";}#sk-container-id-3 div.sk-estimator input.sk-toggleable__control:checked~label.sk-toggleable__label {background-color: #d4ebff;}#sk-container-id-3 div.sk-label input.sk-toggleable__control:checked~label.sk-toggleable__label {background-color: #d4ebff;}#sk-container-id-3 input.sk-hidden--visually {border: 0;clip: rect(1px 1px 1px 1px);clip: rect(1px, 1px, 1px, 1px);height: 1px;margin: -1px;overflow: hidden;padding: 0;position: absolute;width: 1px;}#sk-container-id-3 div.sk-estimator {font-family: monospace;background-color: #f0f8ff;border: 1px dotted black;border-radius: 0.25em;box-sizing: border-box;margin-bottom: 0.5em;}#sk-container-id-3 div.sk-estimator:hover {background-color: #d4ebff;}#sk-container-id-3 div.sk-parallel-item::after {content: \"\";width: 100%;border-bottom: 1px solid gray;flex-grow: 1;}#sk-container-id-3 div.sk-label:hover label.sk-toggleable__label {background-color: #d4ebff;}#sk-container-id-3 div.sk-serial::before {content: \"\";position: absolute;border-left: 1px solid gray;box-sizing: border-box;top: 0;bottom: 0;left: 50%;z-index: 0;}#sk-container-id-3 div.sk-serial {display: flex;flex-direction: column;align-items: center;background-color: white;padding-right: 0.2em;padding-left: 0.2em;position: relative;}#sk-container-id-3 div.sk-item {position: relative;z-index: 1;}#sk-container-id-3 div.sk-parallel {display: flex;align-items: stretch;justify-content: center;background-color: white;position: relative;}#sk-container-id-3 div.sk-item::before, #sk-container-id-3 div.sk-parallel-item::before {content: \"\";position: absolute;border-left: 1px solid gray;box-sizing: border-box;top: 0;bottom: 0;left: 50%;z-index: -1;}#sk-container-id-3 div.sk-parallel-item {display: flex;flex-direction: column;z-index: 1;position: relative;background-color: white;}#sk-container-id-3 div.sk-parallel-item:first-child::after {align-self: flex-end;width: 50%;}#sk-container-id-3 div.sk-parallel-item:last-child::after {align-self: flex-start;width: 50%;}#sk-container-id-3 div.sk-parallel-item:only-child::after {width: 0;}#sk-container-id-3 div.sk-dashed-wrapped {border: 1px dashed gray;margin: 0 0.4em 0.5em 0.4em;box-sizing: border-box;padding-bottom: 0.4em;background-color: white;}#sk-container-id-3 div.sk-label label {font-family: monospace;font-weight: bold;display: inline-block;line-height: 1.2em;}#sk-container-id-3 div.sk-label-container {text-align: center;}#sk-container-id-3 div.sk-container {/* jupyter's `normalize.less` sets `[hidden] { display: none; }` but bootstrap.min.css set `[hidden] { display: none !important; }` so we also need the `!important` here to be able to override the default hidden behavior on the sphinx rendered scikit-learn.org. See: https://github.com/scikit-learn/scikit-learn/issues/21755 */display: inline-block !important;position: relative;}#sk-container-id-3 div.sk-text-repr-fallback {display: none;}</style><div id=\"sk-container-id-3\" class=\"sk-top-container\"><div class=\"sk-text-repr-fallback\"><pre>MinMaxScaler()</pre><b>In a Jupyter environment, please rerun this cell to show the HTML representation or trust the notebook. <br />On GitHub, the HTML representation is unable to render, please try loading this page with nbviewer.org.</b></div><div class=\"sk-container\" hidden><div class=\"sk-item\"><div class=\"sk-estimator sk-toggleable\"><input class=\"sk-toggleable__control sk-hidden--visually\" id=\"sk-estimator-id-3\" type=\"checkbox\" checked><label for=\"sk-estimator-id-3\" class=\"sk-toggleable__label sk-toggleable__label-arrow\">MinMaxScaler</label><div class=\"sk-toggleable__content\"><pre>MinMaxScaler()</pre></div></div></div></div></div>"
      ],
      "text/plain": [
       "MinMaxScaler()"
      ]
     },
     "execution_count": 258,
     "metadata": {},
     "output_type": "execute_result"
    }
   ],
   "source": [
    "scaler.fit(train)"
   ]
  },
  {
   "cell_type": "code",
   "execution_count": 259,
   "id": "d5ecfadc",
   "metadata": {},
   "outputs": [],
   "source": [
    "scaled_train = scaler.transform(train)\n",
    "scaled_test = scaler.transform(test)"
   ]
  },
  {
   "cell_type": "code",
   "execution_count": 260,
   "id": "4eebcdef",
   "metadata": {},
   "outputs": [
    {
     "data": {
      "text/plain": [
       "array([[0.08653846],\n",
       "       [0.01923077],\n",
       "       [0.20913462],\n",
       "       [0.24759615],\n",
       "       [0.41826923],\n",
       "       [0.34615385],\n",
       "       [0.20913462],\n",
       "       [0.11057692],\n",
       "       [0.03605769],\n",
       "       [0.05769231]])"
      ]
     },
     "execution_count": 260,
     "metadata": {},
     "output_type": "execute_result"
    }
   ],
   "source": [
    "scaled_train[:10]"
   ]
  },
  {
   "cell_type": "code",
   "execution_count": 261,
   "id": "e38d7e94",
   "metadata": {},
   "outputs": [
    {
     "name": "stdout",
     "output_type": "stream",
     "text": [
      "The first four inputs are [0.08653846 0.01923077 0.20913462 0.24759615]\n",
      "The predicted fifth output is [0.41826923]\n",
      "Actual value is [0.41826923]\n",
      "(1, 4, 1)\n"
     ]
    }
   ],
   "source": [
    "#Now we find the fifth value using the first four input\n",
    "from keras.preprocessing.sequence import TimeseriesGenerator\n",
    "value = TimeseriesGenerator(scaled_train,scaled_train,length=4,batch_size=1)#length is the number of input for prediction the next\n",
    "X,y = value[0]\n",
    "print(f'The first four inputs are {X.flatten()}')\n",
    "print(f'The predicted fifth output is {y.flatten()}')\n",
    "print(f'Actual value is {scaled_train[4]}')\n",
    "print(X.shape)"
   ]
  },
  {
   "cell_type": "code",
   "execution_count": 262,
   "id": "1033a1aa",
   "metadata": {},
   "outputs": [],
   "source": [
    "#We define the model\n",
    "from keras.models import Sequential\n",
    "from keras.layers import Dense\n",
    "from keras.layers import LSTM"
   ]
  },
  {
   "cell_type": "code",
   "execution_count": 263,
   "id": "a5f2908a",
   "metadata": {},
   "outputs": [
    {
     "data": {
      "text/plain": [
       "(1, 12, 1)"
      ]
     },
     "execution_count": 263,
     "metadata": {},
     "output_type": "execute_result"
    }
   ],
   "source": [
    "#for one year we define lenght as 12 n_input=12\n",
    "n_input = 12\n",
    "n_features=1\n",
    "generator = TimeseriesGenerator(scaled_train,scaled_train,length=n_input,batch_size=1)\n",
    "X,y = generator[0]\n",
    "X.shape"
   ]
  },
  {
   "cell_type": "code",
   "execution_count": 264,
   "id": "39573700",
   "metadata": {},
   "outputs": [],
   "source": [
    "# define model\n",
    "model = Sequential()\n",
    "model.add(LSTM(100, activation='relu', input_shape=(n_input,n_features)))\n",
    "model.add(Dense(1))\n",
    "model.compile(optimizer='adam', loss='mse')\n",
    "     "
   ]
  },
  {
   "cell_type": "code",
   "execution_count": 265,
   "id": "e3452828",
   "metadata": {},
   "outputs": [
    {
     "name": "stdout",
     "output_type": "stream",
     "text": [
      "Model: \"sequential_2\"\n",
      "_________________________________________________________________\n",
      " Layer (type)                Output Shape              Param #   \n",
      "=================================================================\n",
      " lstm_2 (LSTM)               (None, 100)               40800     \n",
      "                                                                 \n",
      " dense_2 (Dense)             (None, 1)                 101       \n",
      "                                                                 \n",
      "=================================================================\n",
      "Total params: 40,901\n",
      "Trainable params: 40,901\n",
      "Non-trainable params: 0\n",
      "_________________________________________________________________\n"
     ]
    }
   ],
   "source": [
    "model.summary()"
   ]
  },
  {
   "cell_type": "code",
   "execution_count": 266,
   "id": "db089cc8",
   "metadata": {},
   "outputs": [
    {
     "name": "stdout",
     "output_type": "stream",
     "text": [
      "Epoch 1/50\n",
      "144/144 [==============================] - 1s 3ms/step - loss: 0.0440\n",
      "Epoch 2/50\n",
      "144/144 [==============================] - 0s 2ms/step - loss: 0.0209\n",
      "Epoch 3/50\n",
      "144/144 [==============================] - 0s 2ms/step - loss: 0.0128\n",
      "Epoch 4/50\n",
      "144/144 [==============================] - 0s 2ms/step - loss: 0.0139\n",
      "Epoch 5/50\n",
      "144/144 [==============================] - 0s 2ms/step - loss: 0.0121\n",
      "Epoch 6/50\n",
      "144/144 [==============================] - 0s 2ms/step - loss: 0.0062\n",
      "Epoch 7/50\n",
      "144/144 [==============================] - 0s 2ms/step - loss: 0.0039\n",
      "Epoch 8/50\n",
      "144/144 [==============================] - 0s 2ms/step - loss: 0.0050\n",
      "Epoch 9/50\n",
      "144/144 [==============================] - 0s 2ms/step - loss: 0.0042\n",
      "Epoch 10/50\n",
      "144/144 [==============================] - 0s 2ms/step - loss: 0.0045\n",
      "Epoch 11/50\n",
      "144/144 [==============================] - 0s 2ms/step - loss: 0.0036\n",
      "Epoch 12/50\n",
      "144/144 [==============================] - 0s 3ms/step - loss: 0.0052\n",
      "Epoch 13/50\n",
      "144/144 [==============================] - 0s 2ms/step - loss: 0.0042\n",
      "Epoch 14/50\n",
      "144/144 [==============================] - 0s 2ms/step - loss: 0.0077\n",
      "Epoch 15/50\n",
      "144/144 [==============================] - 0s 2ms/step - loss: 0.0045\n",
      "Epoch 16/50\n",
      "144/144 [==============================] - 0s 2ms/step - loss: 0.0043\n",
      "Epoch 17/50\n",
      "144/144 [==============================] - 0s 2ms/step - loss: 0.0036\n",
      "Epoch 18/50\n",
      "144/144 [==============================] - 0s 2ms/step - loss: 0.0035\n",
      "Epoch 19/50\n",
      "144/144 [==============================] - 0s 2ms/step - loss: 0.0032\n",
      "Epoch 20/50\n",
      "144/144 [==============================] - 0s 2ms/step - loss: 0.0033\n",
      "Epoch 21/50\n",
      "144/144 [==============================] - 0s 2ms/step - loss: 0.0045\n",
      "Epoch 22/50\n",
      "144/144 [==============================] - 0s 2ms/step - loss: 0.0044\n",
      "Epoch 23/50\n",
      "144/144 [==============================] - 0s 2ms/step - loss: 0.0037\n",
      "Epoch 24/50\n",
      "144/144 [==============================] - 0s 3ms/step - loss: 0.0042\n",
      "Epoch 25/50\n",
      "144/144 [==============================] - 0s 3ms/step - loss: 0.0042\n",
      "Epoch 26/50\n",
      "144/144 [==============================] - 0s 3ms/step - loss: 0.0033\n",
      "Epoch 27/50\n",
      "144/144 [==============================] - 0s 3ms/step - loss: 0.0029\n",
      "Epoch 28/50\n",
      "144/144 [==============================] - 0s 3ms/step - loss: 0.0031\n",
      "Epoch 29/50\n",
      "144/144 [==============================] - 0s 3ms/step - loss: 0.0035\n",
      "Epoch 30/50\n",
      "144/144 [==============================] - 0s 2ms/step - loss: 0.0032\n",
      "Epoch 31/50\n",
      "144/144 [==============================] - 0s 2ms/step - loss: 0.0034\n",
      "Epoch 32/50\n",
      "144/144 [==============================] - 0s 3ms/step - loss: 0.0028\n",
      "Epoch 33/50\n",
      "144/144 [==============================] - 0s 2ms/step - loss: 0.0028\n",
      "Epoch 34/50\n",
      "144/144 [==============================] - 0s 2ms/step - loss: 0.0031\n",
      "Epoch 35/50\n",
      "144/144 [==============================] - 0s 2ms/step - loss: 0.0030\n",
      "Epoch 36/50\n",
      "144/144 [==============================] - 0s 2ms/step - loss: 0.0030\n",
      "Epoch 37/50\n",
      "144/144 [==============================] - 0s 2ms/step - loss: 0.0025\n",
      "Epoch 38/50\n",
      "144/144 [==============================] - 0s 2ms/step - loss: 0.0024\n",
      "Epoch 39/50\n",
      "144/144 [==============================] - 0s 2ms/step - loss: 0.0028\n",
      "Epoch 40/50\n",
      "144/144 [==============================] - 0s 2ms/step - loss: 0.0027\n",
      "Epoch 41/50\n",
      "144/144 [==============================] - 0s 2ms/step - loss: 0.0023\n",
      "Epoch 42/50\n",
      "144/144 [==============================] - 0s 3ms/step - loss: 0.0024\n",
      "Epoch 43/50\n",
      "144/144 [==============================] - 0s 2ms/step - loss: 0.0024\n",
      "Epoch 44/50\n",
      "144/144 [==============================] - 0s 2ms/step - loss: 0.0027\n",
      "Epoch 45/50\n",
      "144/144 [==============================] - 0s 2ms/step - loss: 0.0026\n",
      "Epoch 46/50\n",
      "144/144 [==============================] - 0s 2ms/step - loss: 0.0027\n",
      "Epoch 47/50\n",
      "144/144 [==============================] - 0s 2ms/step - loss: 0.0025\n",
      "Epoch 48/50\n",
      "144/144 [==============================] - 0s 2ms/step - loss: 0.0022\n",
      "Epoch 49/50\n",
      "144/144 [==============================] - 0s 2ms/step - loss: 0.0024\n",
      "Epoch 50/50\n",
      "144/144 [==============================] - 0s 2ms/step - loss: 0.0027\n"
     ]
    },
    {
     "data": {
      "text/plain": [
       "<keras.callbacks.History at 0x1e6bc110a60>"
      ]
     },
     "execution_count": 266,
     "metadata": {},
     "output_type": "execute_result"
    }
   ],
   "source": [
    " #fit model with generator defined above\n",
    "model.fit(generator,epochs=50)\n",
    "     "
   ]
  },
  {
   "cell_type": "code",
   "execution_count": 267,
   "id": "c9c99215",
   "metadata": {},
   "outputs": [
    {
     "data": {
      "text/plain": [
       "(1, 12, 1)"
      ]
     },
     "execution_count": 267,
     "metadata": {},
     "output_type": "execute_result"
    }
   ],
   "source": [
    "X.shape"
   ]
  },
  {
   "cell_type": "code",
   "execution_count": 268,
   "id": "ddadcf76",
   "metadata": {},
   "outputs": [],
   "source": [
    "#Taking last 12 values in the training dataset\n",
    "last_train_data = scaled_train[-12:]\n",
    "#reshaping the dataset to give to the model\n",
    "last_train_data = last_train_data.reshape(1,n_input,n_features)\n"
   ]
  },
  {
   "cell_type": "code",
   "execution_count": 269,
   "id": "cdd9f280",
   "metadata": {},
   "outputs": [
    {
     "name": "stdout",
     "output_type": "stream",
     "text": [
      "1/1 [==============================] - 0s 152ms/step\n"
     ]
    },
    {
     "data": {
      "text/plain": [
       "array([0.6569901], dtype=float32)"
      ]
     },
     "execution_count": 269,
     "metadata": {},
     "output_type": "execute_result"
    }
   ],
   "source": [
    "#predicted first test data\n",
    "model.predict(last_train_data).flatten()"
   ]
  },
  {
   "cell_type": "code",
   "execution_count": 270,
   "id": "f7f01ddc",
   "metadata": {},
   "outputs": [
    {
     "data": {
      "text/plain": [
       "array([0.67548077])"
      ]
     },
     "execution_count": 270,
     "metadata": {},
     "output_type": "execute_result"
    }
   ],
   "source": [
    "#Actual first test data\n",
    "scaled_test[0]"
   ]
  },
  {
   "cell_type": "code",
   "execution_count": 271,
   "id": "a0bbb541",
   "metadata": {},
   "outputs": [
    {
     "name": "stdout",
     "output_type": "stream",
     "text": [
      "1/1 [==============================] - 0s 16ms/step\n",
      "1/1 [==============================] - 0s 16ms/step\n",
      "1/1 [==============================] - 0s 15ms/step\n",
      "1/1 [==============================] - 0s 16ms/step\n",
      "1/1 [==============================] - 0s 15ms/step\n",
      "1/1 [==============================] - 0s 16ms/step\n",
      "1/1 [==============================] - 0s 15ms/step\n",
      "1/1 [==============================] - 0s 16ms/step\n",
      "1/1 [==============================] - 0s 15ms/step\n",
      "1/1 [==============================] - 0s 15ms/step\n",
      "1/1 [==============================] - 0s 15ms/step\n",
      "1/1 [==============================] - 0s 15ms/step\n"
     ]
    }
   ],
   "source": [
    "\n",
    "test_predictions = []\n",
    "\n",
    "first_eval_batch = scaled_train[-n_input:]\n",
    "current_batch = first_eval_batch.reshape((1, n_input, n_features))\n",
    "\n",
    "for i in range(len(test)):\n",
    "    \n",
    "    # get the prediction value for the first batch\n",
    "    current_pred = model.predict(current_batch)[0]\n",
    "    \n",
    "    # append the prediction into the array\n",
    "    test_predictions.append(current_pred) \n",
    "    \n",
    "    # use the prediction to update the batch and remove the first value\n",
    "    current_batch = np.append(current_batch[:,1:,:],[[current_pred]],axis=1)\n",
    "     "
   ]
  },
  {
   "cell_type": "code",
   "execution_count": 272,
   "id": "197e5058",
   "metadata": {},
   "outputs": [
    {
     "data": {
      "text/plain": [
       "[array([0.6569901], dtype=float32),\n",
       " array([0.6387867], dtype=float32),\n",
       " array([0.8505821], dtype=float32),\n",
       " array([0.9281747], dtype=float32),\n",
       " array([1.0574269], dtype=float32),\n",
       " array([1.0351129], dtype=float32),\n",
       " array([0.9451387], dtype=float32),\n",
       " array([0.8210744], dtype=float32),\n",
       " array([0.6903369], dtype=float32),\n",
       " array([0.6347826], dtype=float32),\n",
       " array([0.57812184], dtype=float32),\n",
       " array([0.6186115], dtype=float32)]"
      ]
     },
     "execution_count": 272,
     "metadata": {},
     "output_type": "execute_result"
    }
   ],
   "source": [
    "test_predictions"
   ]
  },
  {
   "cell_type": "code",
   "execution_count": 273,
   "id": "98d7ff15",
   "metadata": {},
   "outputs": [
    {
     "name": "stderr",
     "output_type": "stream",
     "text": [
      "C:\\Users\\91986\\AppData\\Local\\Temp\\ipykernel_22860\\571985698.py:2: SettingWithCopyWarning: \n",
      "A value is trying to be set on a copy of a slice from a DataFrame.\n",
      "Try using .loc[row_indexer,col_indexer] = value instead\n",
      "\n",
      "See the caveats in the documentation: https://pandas.pydata.org/pandas-docs/stable/user_guide/indexing.html#returning-a-view-versus-a-copy\n",
      "  test['Prediction'] = prediction\n"
     ]
    }
   ],
   "source": [
    "prediction  = scaler.inverse_transform(test_predictions)\n",
    "test['Prediction'] = prediction"
   ]
  },
  {
   "cell_type": "code",
   "execution_count": 274,
   "id": "6169af32",
   "metadata": {},
   "outputs": [
    {
     "data": {
      "text/html": [
       "<div>\n",
       "<style scoped>\n",
       "    .dataframe tbody tr th:only-of-type {\n",
       "        vertical-align: middle;\n",
       "    }\n",
       "\n",
       "    .dataframe tbody tr th {\n",
       "        vertical-align: top;\n",
       "    }\n",
       "\n",
       "    .dataframe thead th {\n",
       "        text-align: right;\n",
       "    }\n",
       "</style>\n",
       "<table border=\"1\" class=\"dataframe\">\n",
       "  <thead>\n",
       "    <tr style=\"text-align: right;\">\n",
       "      <th></th>\n",
       "      <th>Production</th>\n",
       "      <th>Prediction</th>\n",
       "    </tr>\n",
       "    <tr>\n",
       "      <th>Date</th>\n",
       "      <th></th>\n",
       "      <th></th>\n",
       "    </tr>\n",
       "  </thead>\n",
       "  <tbody>\n",
       "    <tr>\n",
       "      <th>1975-01-01</th>\n",
       "      <td>834</td>\n",
       "      <td>826.307886</td>\n",
       "    </tr>\n",
       "    <tr>\n",
       "      <th>1975-02-01</th>\n",
       "      <td>782</td>\n",
       "      <td>818.735256</td>\n",
       "    </tr>\n",
       "    <tr>\n",
       "      <th>1975-03-01</th>\n",
       "      <td>892</td>\n",
       "      <td>906.842163</td>\n",
       "    </tr>\n",
       "    <tr>\n",
       "      <th>1975-04-01</th>\n",
       "      <td>903</td>\n",
       "      <td>939.120665</td>\n",
       "    </tr>\n",
       "    <tr>\n",
       "      <th>1975-05-01</th>\n",
       "      <td>966</td>\n",
       "      <td>992.889603</td>\n",
       "    </tr>\n",
       "    <tr>\n",
       "      <th>1975-06-01</th>\n",
       "      <td>937</td>\n",
       "      <td>983.606949</td>\n",
       "    </tr>\n",
       "    <tr>\n",
       "      <th>1975-07-01</th>\n",
       "      <td>896</td>\n",
       "      <td>946.177696</td>\n",
       "    </tr>\n",
       "    <tr>\n",
       "      <th>1975-08-01</th>\n",
       "      <td>858</td>\n",
       "      <td>894.566961</td>\n",
       "    </tr>\n",
       "    <tr>\n",
       "      <th>1975-09-01</th>\n",
       "      <td>817</td>\n",
       "      <td>840.180143</td>\n",
       "    </tr>\n",
       "    <tr>\n",
       "      <th>1975-10-01</th>\n",
       "      <td>827</td>\n",
       "      <td>817.069567</td>\n",
       "    </tr>\n",
       "    <tr>\n",
       "      <th>1975-11-01</th>\n",
       "      <td>797</td>\n",
       "      <td>793.498686</td>\n",
       "    </tr>\n",
       "    <tr>\n",
       "      <th>1975-12-01</th>\n",
       "      <td>843</td>\n",
       "      <td>810.342390</td>\n",
       "    </tr>\n",
       "  </tbody>\n",
       "</table>\n",
       "</div>"
      ],
      "text/plain": [
       "            Production  Prediction\n",
       "Date                              \n",
       "1975-01-01         834  826.307886\n",
       "1975-02-01         782  818.735256\n",
       "1975-03-01         892  906.842163\n",
       "1975-04-01         903  939.120665\n",
       "1975-05-01         966  992.889603\n",
       "1975-06-01         937  983.606949\n",
       "1975-07-01         896  946.177696\n",
       "1975-08-01         858  894.566961\n",
       "1975-09-01         817  840.180143\n",
       "1975-10-01         827  817.069567\n",
       "1975-11-01         797  793.498686\n",
       "1975-12-01         843  810.342390"
      ]
     },
     "execution_count": 274,
     "metadata": {},
     "output_type": "execute_result"
    }
   ],
   "source": [
    "test"
   ]
  },
  {
   "cell_type": "code",
   "execution_count": 275,
   "id": "6c1f3c31",
   "metadata": {},
   "outputs": [
    {
     "data": {
      "text/plain": [
       "<AxesSubplot:xlabel='Date'>"
      ]
     },
     "execution_count": 275,
     "metadata": {},
     "output_type": "execute_result"
    },
    {
     "data": {
      "image/png": "[encoded data removed]",
      "text/plain": [
       "<Figure size 864x432 with 1 Axes>"
      ]
     },
     "metadata": {
      "needs_background": "light"
     },
     "output_type": "display_data"
    }
   ],
   "source": [
    "test.plot(xlim=['1975-1-1','1975-12-01'],figsize=(12,6))"
   ]
  },
  {
   "cell_type": "code",
   "execution_count": 276,
   "id": "13d9f73f",
   "metadata": {},
   "outputs": [
    {
     "name": "stdout",
     "output_type": "stream",
     "text": [
      "30.820114356889682\n"
     ]
    }
   ],
   "source": [
    "from sklearn.metrics import mean_squared_error\n",
    "from math import sqrt\n",
    "rmse=sqrt(mean_squared_error(test['Production'],test['Prediction']))\n",
    "print(rmse)"
   ]
  },
  {
   "cell_type": "code",
   "execution_count": 277,
   "id": "77595ccf",
   "metadata": {},
   "outputs": [
    {
     "name": "stderr",
     "output_type": "stream",
     "text": [
      "C:\\Users\\91986\\anaconda3\\lib\\site-packages\\sklearn\\base.py:493: FutureWarning: The feature names should match those that were passed during fit. Starting version 1.2, an error will be raised.\n",
      "Feature names unseen at fit time:\n",
      "- Prediction\n",
      "Feature names seen at fit time, yet now missing:\n",
      "- Production\n",
      "\n",
      "  warnings.warn(message, FutureWarning)\n"
     ]
    }
   ],
   "source": [
    "#Predicting the next 12days data after test dataset\n",
    "test['Prediction']\n",
    "scaledddd = scaler.transform(test[['Prediction']])"
   ]
  },
  {
   "cell_type": "code",
   "execution_count": 278,
   "id": "dfca4972",
   "metadata": {},
   "outputs": [
    {
     "name": "stdout",
     "output_type": "stream",
     "text": [
      "1/1 [==============================] - 0s 16ms/step\n",
      "1/1 [==============================] - 0s 15ms/step\n",
      "1/1 [==============================] - 0s 15ms/step\n",
      "1/1 [==============================] - 0s 15ms/step\n",
      "1/1 [==============================] - 0s 15ms/step\n",
      "1/1 [==============================] - 0s 14ms/step\n",
      "1/1 [==============================] - 0s 15ms/step\n",
      "1/1 [==============================] - 0s 15ms/step\n",
      "1/1 [==============================] - 0s 15ms/step\n",
      "1/1 [==============================] - 0s 15ms/step\n",
      "1/1 [==============================] - 0s 15ms/step\n",
      "1/1 [==============================] - 0s 15ms/step\n"
     ]
    }
   ],
   "source": [
    "test_predictions = []\n",
    "\n",
    "first_eval_batch = scaledddd[-12:]\n",
    "current_batch = first_eval_batch.reshape((1, n_input, n_features))\n",
    "\n",
    "for i in range(len(test)):\n",
    "    \n",
    "    # get the prediction value for the first batch\n",
    "    current_pred = model.predict(current_batch)[0]\n",
    "    \n",
    "    # append the prediction into the array\n",
    "    test_predictions.append(current_pred) \n",
    "    \n",
    "    # use the prediction to update the batch and remove the first value\n",
    "    current_batch = np.append(current_batch[:,1:,:],[[current_pred]],axis=1)"
   ]
  },
  {
   "cell_type": "code",
   "execution_count": 279,
   "id": "d742705c",
   "metadata": {},
   "outputs": [
    {
     "data": {
      "text/plain": [
       "[array([0.66613394], dtype=float32),\n",
       " array([0.7122546], dtype=float32),\n",
       " array([0.90334016], dtype=float32),\n",
       " array([1.0150781], dtype=float32),\n",
       " array([1.1333402], dtype=float32),\n",
       " array([1.1307186], dtype=float32),\n",
       " array([1.040852], dtype=float32),\n",
       " array([0.89798397], dtype=float32),\n",
       " array([0.7498705], dtype=float32),\n",
       " array([0.66517574], dtype=float32),\n",
       " array([0.6134244], dtype=float32),\n",
       " array([0.62698543], dtype=float32)]"
      ]
     },
     "execution_count": 279,
     "metadata": {},
     "output_type": "execute_result"
    }
   ],
   "source": [
    "test_predictions"
   ]
  },
  {
   "cell_type": "code",
   "execution_count": 280,
   "id": "a7fc0758",
   "metadata": {},
   "outputs": [
    {
     "data": {
      "text/plain": [
       "array([[ 830.11171913],\n",
       "       [ 849.29790688],\n",
       "       [ 928.78950691],\n",
       "       [ 975.2724762 ],\n",
       "       [1024.46953964],\n",
       "       [1023.37893295],\n",
       "       [ 985.99441147],\n",
       "       [ 926.5613308 ],\n",
       "       [ 864.94611931],\n",
       "       [ 829.71310616],\n",
       "       [ 808.18455887],\n",
       "       [ 813.82593918]])"
      ]
     },
     "execution_count": 280,
     "metadata": {},
     "output_type": "execute_result"
    }
   ],
   "source": [
    "#rescaling\n",
    "test_predictions = scaler.inverse_transform(test_predictions)\n",
    "test_predictions"
   ]
  },
  {
   "cell_type": "code",
   "execution_count": 281,
   "id": "51ea29f7",
   "metadata": {},
   "outputs": [],
   "source": [
    "from datetime import datetime, timedelta"
   ]
  },
  {
   "cell_type": "code",
   "execution_count": 282,
   "id": "82e04365",
   "metadata": {},
   "outputs": [
    {
     "data": {
      "text/plain": [
       "datetime.datetime(1975, 12, 2, 0, 0)"
      ]
     },
     "execution_count": 282,
     "metadata": {},
     "output_type": "execute_result"
    }
   ],
   "source": [
    "datetime(1975,12,1)+timedelta(days=1)"
   ]
  },
  {
   "cell_type": "code",
   "execution_count": 284,
   "id": "f699ad6c",
   "metadata": {},
   "outputs": [],
   "source": [
    "#dates after test data ends\n",
    "date = pd.date_range(start='1976-01-01',periods=12,freq='MS')"
   ]
  },
  {
   "cell_type": "code",
   "execution_count": 285,
   "id": "f470be77",
   "metadata": {},
   "outputs": [],
   "source": [
    "y=pd.DataFrame(test_predictions,columns=['future'])"
   ]
  },
  {
   "cell_type": "code",
   "execution_count": 286,
   "id": "226869b9",
   "metadata": {},
   "outputs": [],
   "source": [
    "x=pd.DataFrame(date,columns=['Date'])"
   ]
  },
  {
   "cell_type": "code",
   "execution_count": 288,
   "id": "031dcb6d",
   "metadata": {},
   "outputs": [
    {
     "data": {
      "text/html": [
       "<div>\n",
       "<style scoped>\n",
       "    .dataframe tbody tr th:only-of-type {\n",
       "        vertical-align: middle;\n",
       "    }\n",
       "\n",
       "    .dataframe tbody tr th {\n",
       "        vertical-align: top;\n",
       "    }\n",
       "\n",
       "    .dataframe thead th {\n",
       "        text-align: right;\n",
       "    }\n",
       "</style>\n",
       "<table border=\"1\" class=\"dataframe\">\n",
       "  <thead>\n",
       "    <tr style=\"text-align: right;\">\n",
       "      <th></th>\n",
       "      <th>Date</th>\n",
       "      <th>future</th>\n",
       "    </tr>\n",
       "  </thead>\n",
       "  <tbody>\n",
       "    <tr>\n",
       "      <th>0</th>\n",
       "      <td>1976-01-01</td>\n",
       "      <td>830.111719</td>\n",
       "    </tr>\n",
       "    <tr>\n",
       "      <th>1</th>\n",
       "      <td>1976-02-01</td>\n",
       "      <td>849.297907</td>\n",
       "    </tr>\n",
       "    <tr>\n",
       "      <th>2</th>\n",
       "      <td>1976-03-01</td>\n",
       "      <td>928.789507</td>\n",
       "    </tr>\n",
       "    <tr>\n",
       "      <th>3</th>\n",
       "      <td>1976-04-01</td>\n",
       "      <td>975.272476</td>\n",
       "    </tr>\n",
       "    <tr>\n",
       "      <th>4</th>\n",
       "      <td>1976-05-01</td>\n",
       "      <td>1024.469540</td>\n",
       "    </tr>\n",
       "    <tr>\n",
       "      <th>5</th>\n",
       "      <td>1976-06-01</td>\n",
       "      <td>1023.378933</td>\n",
       "    </tr>\n",
       "    <tr>\n",
       "      <th>6</th>\n",
       "      <td>1976-07-01</td>\n",
       "      <td>985.994411</td>\n",
       "    </tr>\n",
       "    <tr>\n",
       "      <th>7</th>\n",
       "      <td>1976-08-01</td>\n",
       "      <td>926.561331</td>\n",
       "    </tr>\n",
       "    <tr>\n",
       "      <th>8</th>\n",
       "      <td>1976-09-01</td>\n",
       "      <td>864.946119</td>\n",
       "    </tr>\n",
       "    <tr>\n",
       "      <th>9</th>\n",
       "      <td>1976-10-01</td>\n",
       "      <td>829.713106</td>\n",
       "    </tr>\n",
       "    <tr>\n",
       "      <th>10</th>\n",
       "      <td>1976-11-01</td>\n",
       "      <td>808.184559</td>\n",
       "    </tr>\n",
       "    <tr>\n",
       "      <th>11</th>\n",
       "      <td>1976-12-01</td>\n",
       "      <td>813.825939</td>\n",
       "    </tr>\n",
       "  </tbody>\n",
       "</table>\n",
       "</div>"
      ],
      "text/plain": [
       "         Date       future\n",
       "0  1976-01-01   830.111719\n",
       "1  1976-02-01   849.297907\n",
       "2  1976-03-01   928.789507\n",
       "3  1976-04-01   975.272476\n",
       "4  1976-05-01  1024.469540\n",
       "5  1976-06-01  1023.378933\n",
       "6  1976-07-01   985.994411\n",
       "7  1976-08-01   926.561331\n",
       "8  1976-09-01   864.946119\n",
       "9  1976-10-01   829.713106\n",
       "10 1976-11-01   808.184559\n",
       "11 1976-12-01   813.825939"
      ]
     },
     "execution_count": 288,
     "metadata": {},
     "output_type": "execute_result"
    }
   ],
   "source": [
    "df1=pd.concat([x,y],axis=1)\n",
    "df1"
   ]
  },
  {
   "cell_type": "code",
   "execution_count": 289,
   "id": "b7e6f7b2",
   "metadata": {},
   "outputs": [
    {
     "data": {
      "text/html": [
       "<div>\n",
       "<style scoped>\n",
       "    .dataframe tbody tr th:only-of-type {\n",
       "        vertical-align: middle;\n",
       "    }\n",
       "\n",
       "    .dataframe tbody tr th {\n",
       "        vertical-align: top;\n",
       "    }\n",
       "\n",
       "    .dataframe thead th {\n",
       "        text-align: right;\n",
       "    }\n",
       "</style>\n",
       "<table border=\"1\" class=\"dataframe\">\n",
       "  <thead>\n",
       "    <tr style=\"text-align: right;\">\n",
       "      <th></th>\n",
       "      <th>future</th>\n",
       "    </tr>\n",
       "    <tr>\n",
       "      <th>Date</th>\n",
       "      <th></th>\n",
       "    </tr>\n",
       "  </thead>\n",
       "  <tbody>\n",
       "    <tr>\n",
       "      <th>1976-01-01</th>\n",
       "      <td>830.111719</td>\n",
       "    </tr>\n",
       "    <tr>\n",
       "      <th>1976-02-01</th>\n",
       "      <td>849.297907</td>\n",
       "    </tr>\n",
       "    <tr>\n",
       "      <th>1976-03-01</th>\n",
       "      <td>928.789507</td>\n",
       "    </tr>\n",
       "    <tr>\n",
       "      <th>1976-04-01</th>\n",
       "      <td>975.272476</td>\n",
       "    </tr>\n",
       "    <tr>\n",
       "      <th>1976-05-01</th>\n",
       "      <td>1024.469540</td>\n",
       "    </tr>\n",
       "    <tr>\n",
       "      <th>1976-06-01</th>\n",
       "      <td>1023.378933</td>\n",
       "    </tr>\n",
       "    <tr>\n",
       "      <th>1976-07-01</th>\n",
       "      <td>985.994411</td>\n",
       "    </tr>\n",
       "    <tr>\n",
       "      <th>1976-08-01</th>\n",
       "      <td>926.561331</td>\n",
       "    </tr>\n",
       "    <tr>\n",
       "      <th>1976-09-01</th>\n",
       "      <td>864.946119</td>\n",
       "    </tr>\n",
       "    <tr>\n",
       "      <th>1976-10-01</th>\n",
       "      <td>829.713106</td>\n",
       "    </tr>\n",
       "    <tr>\n",
       "      <th>1976-11-01</th>\n",
       "      <td>808.184559</td>\n",
       "    </tr>\n",
       "    <tr>\n",
       "      <th>1976-12-01</th>\n",
       "      <td>813.825939</td>\n",
       "    </tr>\n",
       "  </tbody>\n",
       "</table>\n",
       "</div>"
      ],
      "text/plain": [
       "                 future\n",
       "Date                   \n",
       "1976-01-01   830.111719\n",
       "1976-02-01   849.297907\n",
       "1976-03-01   928.789507\n",
       "1976-04-01   975.272476\n",
       "1976-05-01  1024.469540\n",
       "1976-06-01  1023.378933\n",
       "1976-07-01   985.994411\n",
       "1976-08-01   926.561331\n",
       "1976-09-01   864.946119\n",
       "1976-10-01   829.713106\n",
       "1976-11-01   808.184559\n",
       "1976-12-01   813.825939"
      ]
     },
     "execution_count": 289,
     "metadata": {},
     "output_type": "execute_result"
    }
   ],
   "source": [
    "df1=df1.set_index('Date')\n",
    "df1"
   ]
  },
  {
   "cell_type": "code",
   "execution_count": 291,
   "id": "8c660eaa",
   "metadata": {},
   "outputs": [
    {
     "data": {
      "text/html": [
       "<div>\n",
       "<style scoped>\n",
       "    .dataframe tbody tr th:only-of-type {\n",
       "        vertical-align: middle;\n",
       "    }\n",
       "\n",
       "    .dataframe tbody tr th {\n",
       "        vertical-align: top;\n",
       "    }\n",
       "\n",
       "    .dataframe thead th {\n",
       "        text-align: right;\n",
       "    }\n",
       "</style>\n",
       "<table border=\"1\" class=\"dataframe\">\n",
       "  <thead>\n",
       "    <tr style=\"text-align: right;\">\n",
       "      <th></th>\n",
       "      <th>Production</th>\n",
       "      <th>future</th>\n",
       "    </tr>\n",
       "    <tr>\n",
       "      <th>Date</th>\n",
       "      <th></th>\n",
       "      <th></th>\n",
       "    </tr>\n",
       "  </thead>\n",
       "  <tbody>\n",
       "    <tr>\n",
       "      <th>1962-01-01</th>\n",
       "      <td>589.0</td>\n",
       "      <td>NaN</td>\n",
       "    </tr>\n",
       "    <tr>\n",
       "      <th>1962-02-01</th>\n",
       "      <td>561.0</td>\n",
       "      <td>NaN</td>\n",
       "    </tr>\n",
       "    <tr>\n",
       "      <th>1962-03-01</th>\n",
       "      <td>640.0</td>\n",
       "      <td>NaN</td>\n",
       "    </tr>\n",
       "    <tr>\n",
       "      <th>1962-04-01</th>\n",
       "      <td>656.0</td>\n",
       "      <td>NaN</td>\n",
       "    </tr>\n",
       "    <tr>\n",
       "      <th>1962-05-01</th>\n",
       "      <td>727.0</td>\n",
       "      <td>NaN</td>\n",
       "    </tr>\n",
       "    <tr>\n",
       "      <th>...</th>\n",
       "      <td>...</td>\n",
       "      <td>...</td>\n",
       "    </tr>\n",
       "    <tr>\n",
       "      <th>1976-08-01</th>\n",
       "      <td>NaN</td>\n",
       "      <td>926.561331</td>\n",
       "    </tr>\n",
       "    <tr>\n",
       "      <th>1976-09-01</th>\n",
       "      <td>NaN</td>\n",
       "      <td>864.946119</td>\n",
       "    </tr>\n",
       "    <tr>\n",
       "      <th>1976-10-01</th>\n",
       "      <td>NaN</td>\n",
       "      <td>829.713106</td>\n",
       "    </tr>\n",
       "    <tr>\n",
       "      <th>1976-11-01</th>\n",
       "      <td>NaN</td>\n",
       "      <td>808.184559</td>\n",
       "    </tr>\n",
       "    <tr>\n",
       "      <th>1976-12-01</th>\n",
       "      <td>NaN</td>\n",
       "      <td>813.825939</td>\n",
       "    </tr>\n",
       "  </tbody>\n",
       "</table>\n",
       "<p>180 rows × 2 columns</p>\n",
       "</div>"
      ],
      "text/plain": [
       "            Production      future\n",
       "Date                              \n",
       "1962-01-01       589.0         NaN\n",
       "1962-02-01       561.0         NaN\n",
       "1962-03-01       640.0         NaN\n",
       "1962-04-01       656.0         NaN\n",
       "1962-05-01       727.0         NaN\n",
       "...                ...         ...\n",
       "1976-08-01         NaN  926.561331\n",
       "1976-09-01         NaN  864.946119\n",
       "1976-10-01         NaN  829.713106\n",
       "1976-11-01         NaN  808.184559\n",
       "1976-12-01         NaN  813.825939\n",
       "\n",
       "[180 rows x 2 columns]"
      ]
     },
     "execution_count": 291,
     "metadata": {},
     "output_type": "execute_result"
    }
   ],
   "source": [
    "#joining the original and new dataframe\n",
    "df2=pd.concat([df,df1],axis=1)\n",
    "df2"
   ]
  },
  {
   "cell_type": "code",
   "execution_count": 293,
   "id": "099acafc",
   "metadata": {},
   "outputs": [
    {
     "data": {
      "text/plain": [
       "<AxesSubplot:xlabel='Date'>"
      ]
     },
     "execution_count": 293,
     "metadata": {},
     "output_type": "execute_result"
    },
    {
     "data": {
      "image/png": "[encoded data removed]",
      "text/plain": [
       "<Figure size 432x288 with 1 Axes>"
      ]
     },
     "metadata": {
      "needs_background": "light"
     },
     "output_type": "display_data"
    }
   ],
   "source": [
    "#Future predictions\n",
    "df2.plot(xlim=['1971-01-01','1978-01-01'])"
   ]
  },
  {
   "cell_type": "code",
   "execution_count": null,
   "id": "ecff1dfd",
   "metadata": {},
   "outputs": [],
   "source": []
  }
 ],
 "metadata": {
  "kernelspec": {
   "display_name": "Python 3 (ipykernel)",
   "language": "python",
   "name": "python3"
  },
  "language_info": {
   "codemirror_mode": {
    "name": "ipython",
    "version": 3
   },
   "file_extension": ".py",
   "mimetype": "text/x-python",
   "name": "python",
   "nbconvert_exporter": "python",
   "pygments_lexer": "ipython3",
   "version": "3.9.12"
  }
 },
 "nbformat": 4,
 "nbformat_minor": 5
}
